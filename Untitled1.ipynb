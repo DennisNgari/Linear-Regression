{
 "cells": [
  {
   "cell_type": "markdown",
   "metadata": {},
   "source": [
    "# Import the necessary libraries "
   ]
  },
  {
   "cell_type": "code",
   "execution_count": 1,
   "metadata": {},
   "outputs": [],
   "source": [
    "import numpy as np\n",
    "import pandas as pd\n",
    "\n",
    "from sklearn.model_selection import train_test_split\n",
    "from sklearn.metrics import mean_squared_error\n",
    "from sklearn.linear_model import LinearRegression"
   ]
  },
  {
   "cell_type": "markdown",
   "metadata": {},
   "source": [
    "## Load in the dataset"
   ]
  },
  {
   "cell_type": "code",
   "execution_count": 3,
   "metadata": {},
   "outputs": [],
   "source": [
    "df = pd.read_excel(\"S&P500...xlsx\",\"S&P500\")"
   ]
  },
  {
   "cell_type": "code",
   "execution_count": 4,
   "metadata": {},
   "outputs": [],
   "source": [
    "companies = pd.read_excel(\"S&P500...xlsx\",\"share prices\")"
   ]
  },
  {
   "cell_type": "code",
   "execution_count": 5,
   "metadata": {
    "scrolled": false
   },
   "outputs": [
    {
     "data": {
      "text/html": [
       "<div>\n",
       "<style scoped>\n",
       "    .dataframe tbody tr th:only-of-type {\n",
       "        vertical-align: middle;\n",
       "    }\n",
       "\n",
       "    .dataframe tbody tr th {\n",
       "        vertical-align: top;\n",
       "    }\n",
       "\n",
       "    .dataframe thead th {\n",
       "        text-align: right;\n",
       "    }\n",
       "</style>\n",
       "<table border=\"1\" class=\"dataframe\">\n",
       "  <thead>\n",
       "    <tr style=\"text-align: right;\">\n",
       "      <th></th>\n",
       "      <th>Date</th>\n",
       "      <th>Open</th>\n",
       "      <th>High</th>\n",
       "      <th>Low</th>\n",
       "      <th>Close</th>\n",
       "      <th>Adj Close</th>\n",
       "      <th>Volume</th>\n",
       "      <th>Unnamed: 7</th>\n",
       "      <th>Adj Close.1</th>\n",
       "    </tr>\n",
       "  </thead>\n",
       "  <tbody>\n",
       "    <tr>\n",
       "      <th>0</th>\n",
       "      <td>2000-01-03</td>\n",
       "      <td>1469.250000</td>\n",
       "      <td>1478.000000</td>\n",
       "      <td>1438.359985</td>\n",
       "      <td>1455.219971</td>\n",
       "      <td>1455.219971</td>\n",
       "      <td>931800000</td>\n",
       "      <td>NaN</td>\n",
       "      <td>1455.219971</td>\n",
       "    </tr>\n",
       "    <tr>\n",
       "      <th>1</th>\n",
       "      <td>2000-01-04</td>\n",
       "      <td>1455.219971</td>\n",
       "      <td>1455.219971</td>\n",
       "      <td>1397.430054</td>\n",
       "      <td>1399.420044</td>\n",
       "      <td>1399.420044</td>\n",
       "      <td>1009000000</td>\n",
       "      <td>NaN</td>\n",
       "      <td>1399.420044</td>\n",
       "    </tr>\n",
       "    <tr>\n",
       "      <th>2</th>\n",
       "      <td>2000-01-05</td>\n",
       "      <td>1399.420044</td>\n",
       "      <td>1413.270020</td>\n",
       "      <td>1377.680054</td>\n",
       "      <td>1402.109985</td>\n",
       "      <td>1402.109985</td>\n",
       "      <td>1085500000</td>\n",
       "      <td>NaN</td>\n",
       "      <td>1402.109985</td>\n",
       "    </tr>\n",
       "    <tr>\n",
       "      <th>3</th>\n",
       "      <td>2000-01-06</td>\n",
       "      <td>1402.109985</td>\n",
       "      <td>1411.900024</td>\n",
       "      <td>1392.099976</td>\n",
       "      <td>1403.449951</td>\n",
       "      <td>1403.449951</td>\n",
       "      <td>1092300000</td>\n",
       "      <td>NaN</td>\n",
       "      <td>1403.449951</td>\n",
       "    </tr>\n",
       "    <tr>\n",
       "      <th>4</th>\n",
       "      <td>2000-01-07</td>\n",
       "      <td>1403.449951</td>\n",
       "      <td>1441.469971</td>\n",
       "      <td>1400.729980</td>\n",
       "      <td>1441.469971</td>\n",
       "      <td>1441.469971</td>\n",
       "      <td>1225200000</td>\n",
       "      <td>NaN</td>\n",
       "      <td>1441.469971</td>\n",
       "    </tr>\n",
       "  </tbody>\n",
       "</table>\n",
       "</div>"
      ],
      "text/plain": [
       "        Date         Open         High          Low        Close    Adj Close  \\\n",
       "0 2000-01-03  1469.250000  1478.000000  1438.359985  1455.219971  1455.219971   \n",
       "1 2000-01-04  1455.219971  1455.219971  1397.430054  1399.420044  1399.420044   \n",
       "2 2000-01-05  1399.420044  1413.270020  1377.680054  1402.109985  1402.109985   \n",
       "3 2000-01-06  1402.109985  1411.900024  1392.099976  1403.449951  1403.449951   \n",
       "4 2000-01-07  1403.449951  1441.469971  1400.729980  1441.469971  1441.469971   \n",
       "\n",
       "       Volume  Unnamed: 7  Adj Close.1  \n",
       "0   931800000         NaN  1455.219971  \n",
       "1  1009000000         NaN  1399.420044  \n",
       "2  1085500000         NaN  1402.109985  \n",
       "3  1092300000         NaN  1403.449951  \n",
       "4  1225200000         NaN  1441.469971  "
      ]
     },
     "execution_count": 5,
     "metadata": {},
     "output_type": "execute_result"
    }
   ],
   "source": [
    "df.head()"
   ]
  },
  {
   "cell_type": "code",
   "execution_count": 6,
   "metadata": {},
   "outputs": [
    {
     "data": {
      "text/html": [
       "<div>\n",
       "<style scoped>\n",
       "    .dataframe tbody tr th:only-of-type {\n",
       "        vertical-align: middle;\n",
       "    }\n",
       "\n",
       "    .dataframe tbody tr th {\n",
       "        vertical-align: top;\n",
       "    }\n",
       "\n",
       "    .dataframe thead th {\n",
       "        text-align: right;\n",
       "    }\n",
       "</style>\n",
       "<table border=\"1\" class=\"dataframe\">\n",
       "  <thead>\n",
       "    <tr style=\"text-align: right;\">\n",
       "      <th></th>\n",
       "      <th>Dates</th>\n",
       "      <th>Whirlpool Corp</th>\n",
       "      <th>American Airlines Gp</th>\n",
       "      <th>Weyerhaeuser Company</th>\n",
       "      <th>Xerox Holdings Corporation</th>\n",
       "      <th>Waste Management</th>\n",
       "      <th>ZION UW Equity</th>\n",
       "      <th>Zebra Technologies</th>\n",
       "      <th>Abiomed Inc</th>\n",
       "      <th>Stanley Black &amp; Decker Inc</th>\n",
       "      <th>Apple Inc</th>\n",
       "      <th>Advance Auto Parts Inc</th>\n",
       "      <th>Vornado Realty Trust</th>\n",
       "      <th>Exxon Mobil Corp</th>\n",
       "      <th>Wells Fargo &amp; Company</th>\n",
       "      <th>Yum! Brands</th>\n",
       "    </tr>\n",
       "  </thead>\n",
       "  <tbody>\n",
       "    <tr>\n",
       "      <th>0</th>\n",
       "      <td>2000-01-31</td>\n",
       "      <td>58.250</td>\n",
       "      <td>NaN</td>\n",
       "      <td>23.4815</td>\n",
       "      <td>54.9971</td>\n",
       "      <td>17.5000</td>\n",
       "      <td>4670.4018</td>\n",
       "      <td>26.3056</td>\n",
       "      <td>29.250</td>\n",
       "      <td>25.125</td>\n",
       "      <td>0.926</td>\n",
       "      <td>NaN</td>\n",
       "      <td>22.0587</td>\n",
       "      <td>41.7500</td>\n",
       "      <td>20.0000</td>\n",
       "      <td>5.1457</td>\n",
       "    </tr>\n",
       "    <tr>\n",
       "      <th>1</th>\n",
       "      <td>2000-02-29</td>\n",
       "      <td>54.313</td>\n",
       "      <td>NaN</td>\n",
       "      <td>21.0004</td>\n",
       "      <td>57.1377</td>\n",
       "      <td>15.0000</td>\n",
       "      <td>4191.5128</td>\n",
       "      <td>29.5833</td>\n",
       "      <td>36.969</td>\n",
       "      <td>23.000</td>\n",
       "      <td>1.023</td>\n",
       "      <td>NaN</td>\n",
       "      <td>21.5304</td>\n",
       "      <td>37.6563</td>\n",
       "      <td>16.5313</td>\n",
       "      <td>4.7862</td>\n",
       "    </tr>\n",
       "    <tr>\n",
       "      <th>2</th>\n",
       "      <td>2000-03-31</td>\n",
       "      <td>58.625</td>\n",
       "      <td>NaN</td>\n",
       "      <td>23.3281</td>\n",
       "      <td>68.4994</td>\n",
       "      <td>13.6875</td>\n",
       "      <td>3562.8087</td>\n",
       "      <td>22.2222</td>\n",
       "      <td>20.250</td>\n",
       "      <td>26.375</td>\n",
       "      <td>1.213</td>\n",
       "      <td>NaN</td>\n",
       "      <td>23.5997</td>\n",
       "      <td>38.9063</td>\n",
       "      <td>20.4688</td>\n",
       "      <td>5.5839</td>\n",
       "    </tr>\n",
       "    <tr>\n",
       "      <th>3</th>\n",
       "      <td>2000-04-28</td>\n",
       "      <td>65.125</td>\n",
       "      <td>NaN</td>\n",
       "      <td>21.8701</td>\n",
       "      <td>69.6521</td>\n",
       "      <td>15.8750</td>\n",
       "      <td>3552.1096</td>\n",
       "      <td>25.3333</td>\n",
       "      <td>18.563</td>\n",
       "      <td>29.500</td>\n",
       "      <td>1.108</td>\n",
       "      <td>NaN</td>\n",
       "      <td>24.3042</td>\n",
       "      <td>38.8438</td>\n",
       "      <td>20.5313</td>\n",
       "      <td>6.1344</td>\n",
       "    </tr>\n",
       "    <tr>\n",
       "      <th>4</th>\n",
       "      <td>2000-05-31</td>\n",
       "      <td>56.688</td>\n",
       "      <td>NaN</td>\n",
       "      <td>20.3097</td>\n",
       "      <td>71.4633</td>\n",
       "      <td>20.3750</td>\n",
       "      <td>3995.7858</td>\n",
       "      <td>21.3333</td>\n",
       "      <td>19.125</td>\n",
       "      <td>26.875</td>\n",
       "      <td>0.750</td>\n",
       "      <td>NaN</td>\n",
       "      <td>24.6124</td>\n",
       "      <td>41.6563</td>\n",
       "      <td>22.6250</td>\n",
       "      <td>5.2693</td>\n",
       "    </tr>\n",
       "  </tbody>\n",
       "</table>\n",
       "</div>"
      ],
      "text/plain": [
       "       Dates  Whirlpool Corp  American Airlines Gp  Weyerhaeuser Company  \\\n",
       "0 2000-01-31          58.250                   NaN               23.4815   \n",
       "1 2000-02-29          54.313                   NaN               21.0004   \n",
       "2 2000-03-31          58.625                   NaN               23.3281   \n",
       "3 2000-04-28          65.125                   NaN               21.8701   \n",
       "4 2000-05-31          56.688                   NaN               20.3097   \n",
       "\n",
       "   Xerox Holdings Corporation  Waste Management  ZION UW Equity  \\\n",
       "0                     54.9971           17.5000       4670.4018   \n",
       "1                     57.1377           15.0000       4191.5128   \n",
       "2                     68.4994           13.6875       3562.8087   \n",
       "3                     69.6521           15.8750       3552.1096   \n",
       "4                     71.4633           20.3750       3995.7858   \n",
       "\n",
       "   Zebra Technologies  Abiomed Inc  Stanley Black & Decker Inc  Apple Inc  \\\n",
       "0             26.3056       29.250                      25.125      0.926   \n",
       "1             29.5833       36.969                      23.000      1.023   \n",
       "2             22.2222       20.250                      26.375      1.213   \n",
       "3             25.3333       18.563                      29.500      1.108   \n",
       "4             21.3333       19.125                      26.875      0.750   \n",
       "\n",
       "   Advance Auto Parts Inc  Vornado Realty Trust  Exxon Mobil Corp  \\\n",
       "0                     NaN               22.0587           41.7500   \n",
       "1                     NaN               21.5304           37.6563   \n",
       "2                     NaN               23.5997           38.9063   \n",
       "3                     NaN               24.3042           38.8438   \n",
       "4                     NaN               24.6124           41.6563   \n",
       "\n",
       "   Wells Fargo & Company  Yum! Brands  \n",
       "0                20.0000       5.1457  \n",
       "1                16.5313       4.7862  \n",
       "2                20.4688       5.5839  \n",
       "3                20.5313       6.1344  \n",
       "4                22.6250       5.2693  "
      ]
     },
     "execution_count": 6,
     "metadata": {},
     "output_type": "execute_result"
    }
   ],
   "source": [
    "companies.head()"
   ]
  },
  {
   "cell_type": "code",
   "execution_count": 7,
   "metadata": {},
   "outputs": [],
   "source": [
    "companies[\"Dates\"]= companies[\"Dates\"].map(pd.to_datetime)"
   ]
  },
  {
   "cell_type": "code",
   "execution_count": 8,
   "metadata": {},
   "outputs": [],
   "source": [
    "merged = companies.join(df.set_index(\"Date\"), on=\"Dates\")"
   ]
  },
  {
   "cell_type": "code",
   "execution_count": 9,
   "metadata": {},
   "outputs": [],
   "source": [
    "merged = merged[['Dates', 'Whirlpool Corp',\n",
    "       'Weyerhaeuser Company', 'Xerox Holdings Corporation',\n",
    "       'Waste Management', 'ZION UW Equity', 'Zebra Technologies',\n",
    "       'Abiomed Inc', 'Stanley Black & Decker Inc', 'Apple Inc',\n",
    "        'Vornado Realty Trust', 'Exxon Mobil Corp',\n",
    "       'Wells Fargo & Company', 'Yum! Brands','Adj Close']]"
   ]
  },
  {
   "cell_type": "code",
   "execution_count": 10,
   "metadata": {},
   "outputs": [],
   "source": [
    "merged = merged.dropna()"
   ]
  },
  {
   "cell_type": "code",
   "execution_count": 11,
   "metadata": {},
   "outputs": [
    {
     "data": {
      "text/plain": [
       "Dates                         0\n",
       "Whirlpool Corp                0\n",
       "Weyerhaeuser Company          0\n",
       "Xerox Holdings Corporation    0\n",
       "Waste Management              0\n",
       "ZION UW Equity                0\n",
       "Zebra Technologies            0\n",
       "Abiomed Inc                   0\n",
       "Stanley Black & Decker Inc    0\n",
       "Apple Inc                     0\n",
       "Vornado Realty Trust          0\n",
       "Exxon Mobil Corp              0\n",
       "Wells Fargo & Company         0\n",
       "Yum! Brands                   0\n",
       "Adj Close                     0\n",
       "dtype: int64"
      ]
     },
     "execution_count": 11,
     "metadata": {},
     "output_type": "execute_result"
    }
   ],
   "source": [
    "merged.isna().sum()"
   ]
  },
  {
   "cell_type": "markdown",
   "metadata": {},
   "source": [
    "## Whirlpool Corp"
   ]
  },
  {
   "cell_type": "code",
   "execution_count": 12,
   "metadata": {},
   "outputs": [
    {
     "name": "stdout",
     "output_type": "stream",
     "text": [
      "Intercept: \n",
      " [12.30940504]\n",
      "--------------------\n",
      "Coefficients: \n",
      " [[0.05511897]]\n"
     ]
    }
   ],
   "source": [
    "# Get the indepenent and dependent values\n",
    "x = merged[['Adj Close']]\n",
    "y = merged[['Whirlpool Corp']]\n",
    "\n",
    "# Split the data into training and test sets\n",
    "x_train, x_test, y_train, y_test = train_test_split(x, y, test_size = 1/3, random_state=0)\n",
    "\n",
    "# Fit the model\n",
    "regr = LinearRegression()\n",
    "regr.fit(x_train, y_train)\n",
    "\n",
    "# Print the intercept and coefficients\n",
    "print('Intercept: \\n', regr.intercept_)\n",
    "print(\"-\" * 20)\n",
    "print('Coefficients: \\n', regr.coef_)"
   ]
  },
  {
   "cell_type": "markdown",
   "metadata": {},
   "source": [
    "### The standard deviation of the residuals"
   ]
  },
  {
   "cell_type": "code",
   "execution_count": 13,
   "metadata": {},
   "outputs": [
    {
     "data": {
      "text/plain": [
       "28.332761670904258"
      ]
     },
     "execution_count": 13,
     "metadata": {},
     "output_type": "execute_result"
    }
   ],
   "source": [
    "# Get the predicted values and the RMSE\n",
    "y_pred = regr.predict(x_test)\n",
    "\n",
    "RMSE = (np.sqrt(mean_squared_error(y_test, y_pred)))\n",
    "RMSE"
   ]
  },
  {
   "cell_type": "markdown",
   "metadata": {},
   "source": [
    "# Weyerhaeuser Company "
   ]
  },
  {
   "cell_type": "code",
   "execution_count": 14,
   "metadata": {},
   "outputs": [
    {
     "name": "stdout",
     "output_type": "stream",
     "text": [
      "Intercept: \n",
      " [18.159981]\n",
      "--------------------\n",
      "Coefficients: \n",
      " [[0.00473336]]\n"
     ]
    }
   ],
   "source": [
    "# Get the indepenent and dependent values\n",
    "x = merged[['Adj Close']]\n",
    "y = merged[['Weyerhaeuser Company']]\n",
    "\n",
    "# Split the data into training and test sets\n",
    "x_train, x_test, y_train, y_test = train_test_split(x, y, test_size = 1/3, random_state=0)\n",
    "\n",
    "# Fit the model\n",
    "regr = LinearRegression()\n",
    "regr.fit(x_train, y_train)\n",
    "\n",
    "# Print the intercept and coefficients\n",
    "print('Intercept: \\n', regr.intercept_)\n",
    "print(\"-\" * 20)\n",
    "print('Coefficients: \\n', regr.coef_)"
   ]
  },
  {
   "cell_type": "markdown",
   "metadata": {},
   "source": [
    "### The standard deviation of the residuals"
   ]
  },
  {
   "cell_type": "code",
   "execution_count": 15,
   "metadata": {},
   "outputs": [
    {
     "data": {
      "text/plain": [
       "5.464745481920501"
      ]
     },
     "execution_count": 15,
     "metadata": {},
     "output_type": "execute_result"
    }
   ],
   "source": [
    "# Get the predicted values and the RMSE\n",
    "y_pred = regr.predict(x_test)\n",
    "\n",
    "RMSE = (np.sqrt(mean_squared_error(y_test, y_pred)))\n",
    "RMSE"
   ]
  },
  {
   "cell_type": "markdown",
   "metadata": {},
   "source": [
    "# Xerox Holdings Corporation"
   ]
  },
  {
   "cell_type": "code",
   "execution_count": 16,
   "metadata": {},
   "outputs": [
    {
     "name": "stdout",
     "output_type": "stream",
     "text": [
      "Intercept: \n",
      " [32.29335418]\n",
      "--------------------\n",
      "Coefficients: \n",
      " [[-0.00130327]]\n"
     ]
    }
   ],
   "source": [
    "# Get the indepenent and dependent values\n",
    "x = merged[['Adj Close']]\n",
    "y = merged[['Xerox Holdings Corporation']]\n",
    "\n",
    "# Split the data into training and test sets\n",
    "x_train, x_test, y_train, y_test = train_test_split(x, y, test_size = 1/3, random_state=0)\n",
    "\n",
    "# Fit the model\n",
    "regr = LinearRegression()\n",
    "regr.fit(x_train, y_train)\n",
    "\n",
    "# Print the intercept and coefficients\n",
    "print('Intercept: \\n', regr.intercept_)\n",
    "print(\"-\" * 20)\n",
    "print('Coefficients: \\n', regr.coef_)"
   ]
  },
  {
   "cell_type": "markdown",
   "metadata": {},
   "source": [
    "#### The standard deviation of the residuals"
   ]
  },
  {
   "cell_type": "code",
   "execution_count": 17,
   "metadata": {},
   "outputs": [
    {
     "data": {
      "text/plain": [
       "10.054052693136745"
      ]
     },
     "execution_count": 17,
     "metadata": {},
     "output_type": "execute_result"
    }
   ],
   "source": [
    "# Get the predicted values and the RMSE\n",
    "y_pred = regr.predict(x_test)\n",
    "\n",
    "RMSE = (np.sqrt(mean_squared_error(y_test, y_pred)))\n",
    "RMSE"
   ]
  },
  {
   "cell_type": "markdown",
   "metadata": {},
   "source": [
    "# Waste Management              "
   ]
  },
  {
   "cell_type": "code",
   "execution_count": 18,
   "metadata": {},
   "outputs": [
    {
     "name": "stdout",
     "output_type": "stream",
     "text": [
      "Intercept: \n",
      " [-15.79500986]\n",
      "--------------------\n",
      "Coefficients: \n",
      " [[0.03751304]]\n"
     ]
    }
   ],
   "source": [
    "x = merged[['Adj Close']]\n",
    "y = merged[['Waste Management']]\n",
    "\n",
    "# Split the data into training and test sets\n",
    "x_train, x_test, y_train, y_test = train_test_split(x, y, test_size = 1/3, random_state=0)\n",
    "\n",
    "# Fit the model\n",
    "regr = LinearRegression()\n",
    "regr.fit(x_train, y_train)\n",
    "\n",
    "# Print the intercept and coefficients\n",
    "print('Intercept: \\n', regr.intercept_)\n",
    "print(\"-\" * 20)\n",
    "print('Coefficients: \\n', regr.coef_)"
   ]
  },
  {
   "cell_type": "markdown",
   "metadata": {},
   "source": [
    "#### The standard deviation of the residual"
   ]
  },
  {
   "cell_type": "code",
   "execution_count": 19,
   "metadata": {},
   "outputs": [
    {
     "data": {
      "text/plain": [
       "8.599446952428174"
      ]
     },
     "execution_count": 19,
     "metadata": {},
     "output_type": "execute_result"
    }
   ],
   "source": [
    "# Get the predicted values and the RMSE\n",
    "y_pred = regr.predict(x_test)\n",
    "\n",
    "RMSE = (np.sqrt(mean_squared_error(y_test, y_pred)))\n",
    "RMSE"
   ]
  },
  {
   "cell_type": "markdown",
   "metadata": {},
   "source": [
    "# ZION UW Equity "
   ]
  },
  {
   "cell_type": "code",
   "execution_count": 20,
   "metadata": {},
   "outputs": [
    {
     "name": "stdout",
     "output_type": "stream",
     "text": [
      "Intercept: \n",
      " [2982.20544234]\n",
      "--------------------\n",
      "Coefficients: \n",
      " [[1.66102037]]\n"
     ]
    }
   ],
   "source": [
    "x = merged[['Adj Close']]\n",
    "y = merged[[\"ZION UW Equity\"]]\n",
    "\n",
    "# Split the data into training and test sets\n",
    "x_train, x_test, y_train, y_test = train_test_split(x, y, test_size = 1/3, random_state=0)\n",
    "\n",
    "# Fit the model\n",
    "regr = LinearRegression()\n",
    "regr.fit(x_train, y_train)\n",
    "\n",
    "# Print the intercept and coefficients\n",
    "print('Intercept: \\n', regr.intercept_)\n",
    "print(\"-\" * 20)\n",
    "print('Coefficients: \\n', regr.coef_)"
   ]
  },
  {
   "cell_type": "markdown",
   "metadata": {},
   "source": [
    "#### The standard deviation of the residual"
   ]
  },
  {
   "cell_type": "code",
   "execution_count": 21,
   "metadata": {},
   "outputs": [
    {
     "data": {
      "text/plain": [
       "1785.9412310951486"
      ]
     },
     "execution_count": 21,
     "metadata": {},
     "output_type": "execute_result"
    }
   ],
   "source": [
    "# Get the predicted values and the RMSE\n",
    "y_pred = regr.predict(x_test)\n",
    "\n",
    "RMSE = (np.sqrt(mean_squared_error(y_test, y_pred)))\n",
    "RMSE"
   ]
  },
  {
   "cell_type": "markdown",
   "metadata": {},
   "source": [
    "# Zebra Technologies"
   ]
  },
  {
   "cell_type": "code",
   "execution_count": 22,
   "metadata": {},
   "outputs": [
    {
     "name": "stdout",
     "output_type": "stream",
     "text": [
      "Intercept: \n",
      " [-82.36433249]\n",
      "--------------------\n",
      "Coefficients: \n",
      " [[0.09126381]]\n"
     ]
    }
   ],
   "source": [
    "x = merged[['Adj Close']]\n",
    "y = merged[[\"Zebra Technologies\"]]\n",
    "\n",
    "# Split the data into training and test sets\n",
    "x_train, x_test, y_train, y_test = train_test_split(x, y, test_size = 1/3, random_state=0)\n",
    "\n",
    "# Fit the model\n",
    "regr = LinearRegression()\n",
    "regr.fit(x_train, y_train)\n",
    "\n",
    "# Print the intercept and coefficients\n",
    "print('Intercept: \\n', regr.intercept_)\n",
    "print(\"-\" * 20)\n",
    "print('Coefficients: \\n', regr.coef_)"
   ]
  },
  {
   "cell_type": "markdown",
   "metadata": {},
   "source": [
    "#### The standard deviation of the residual"
   ]
  },
  {
   "cell_type": "code",
   "execution_count": 23,
   "metadata": {},
   "outputs": [
    {
     "data": {
      "text/plain": [
       "23.414724670988114"
      ]
     },
     "execution_count": 23,
     "metadata": {},
     "output_type": "execute_result"
    }
   ],
   "source": [
    "# Get the predicted values and the RMSE\n",
    "y_pred = regr.predict(x_test)\n",
    "\n",
    "RMSE = (np.sqrt(mean_squared_error(y_test, y_pred)))\n",
    "RMSE"
   ]
  },
  {
   "cell_type": "markdown",
   "metadata": {},
   "source": [
    "# Abiomed Inc"
   ]
  },
  {
   "cell_type": "code",
   "execution_count": 24,
   "metadata": {},
   "outputs": [
    {
     "name": "stdout",
     "output_type": "stream",
     "text": [
      "Intercept: \n",
      " [-146.14917627]\n",
      "--------------------\n",
      "Coefficients: \n",
      " [[0.12814989]]\n"
     ]
    }
   ],
   "source": [
    "x = merged[['Adj Close']]\n",
    "y = merged[[\"Abiomed Inc\"]]\n",
    "\n",
    "# Split the data into training and test sets\n",
    "x_train, x_test, y_train, y_test = train_test_split(x, y, test_size = 1/3, random_state=0)\n",
    "\n",
    "# Fit the model\n",
    "regr = LinearRegression()\n",
    "regr.fit(x_train, y_train)\n",
    "\n",
    "# Print the intercept and coefficients\n",
    "print('Intercept: \\n', regr.intercept_)\n",
    "print(\"-\" * 20)\n",
    "print('Coefficients: \\n', regr.coef_)"
   ]
  },
  {
   "cell_type": "markdown",
   "metadata": {},
   "source": [
    "#### The standard deviation of the residual"
   ]
  },
  {
   "cell_type": "code",
   "execution_count": 25,
   "metadata": {},
   "outputs": [
    {
     "data": {
      "text/plain": [
       "39.795680829363796"
      ]
     },
     "execution_count": 25,
     "metadata": {},
     "output_type": "execute_result"
    }
   ],
   "source": [
    "# Get the predicted values and the RMSE\n",
    "y_pred = regr.predict(x_test)\n",
    "\n",
    "RMSE = (np.sqrt(mean_squared_error(y_test, y_pred)))\n",
    "RMSE"
   ]
  },
  {
   "cell_type": "markdown",
   "metadata": {},
   "source": [
    "# Stanley Black & Decker Inc"
   ]
  },
  {
   "cell_type": "code",
   "execution_count": 26,
   "metadata": {},
   "outputs": [
    {
     "name": "stdout",
     "output_type": "stream",
     "text": [
      "Intercept: \n",
      " [-20.8979247]\n",
      "--------------------\n",
      "Coefficients: \n",
      " [[0.05748123]]\n"
     ]
    }
   ],
   "source": [
    "x = merged[['Adj Close']]\n",
    "y = merged[[\"Stanley Black & Decker Inc\"]]\n",
    "\n",
    "# Split the data into training and test sets\n",
    "x_train, x_test, y_train, y_test = train_test_split(x, y, test_size = 1/3, random_state=0)\n",
    "\n",
    "# Fit the model\n",
    "regr = LinearRegression()\n",
    "regr.fit(x_train, y_train)\n",
    "\n",
    "# Print the intercept and coefficients\n",
    "print('Intercept: \\n', regr.intercept_)\n",
    "print(\"-\" * 20)\n",
    "print('Coefficients: \\n', regr.coef_)"
   ]
  },
  {
   "cell_type": "markdown",
   "metadata": {},
   "source": [
    "#### The standard deviation of the residual"
   ]
  },
  {
   "cell_type": "code",
   "execution_count": 27,
   "metadata": {},
   "outputs": [
    {
     "data": {
      "text/plain": [
       "13.629299928254603"
      ]
     },
     "execution_count": 27,
     "metadata": {},
     "output_type": "execute_result"
    }
   ],
   "source": [
    "# Get the predicted values and the RMSE\n",
    "y_pred = regr.predict(x_test)\n",
    "\n",
    "RMSE = (np.sqrt(mean_squared_error(y_test, y_pred)))\n",
    "RMSE"
   ]
  },
  {
   "cell_type": "markdown",
   "metadata": {},
   "source": [
    "# Apple Inc"
   ]
  },
  {
   "cell_type": "code",
   "execution_count": 28,
   "metadata": {},
   "outputs": [
    {
     "name": "stdout",
     "output_type": "stream",
     "text": [
      "Intercept: \n",
      " [-39.2268838]\n",
      "--------------------\n",
      "Coefficients: \n",
      " [[0.03509123]]\n"
     ]
    }
   ],
   "source": [
    "x = merged[['Adj Close']]\n",
    "y = merged[[\"Apple Inc\"]]\n",
    "\n",
    "# Split the data into training and test sets\n",
    "x_train, x_test, y_train, y_test = train_test_split(x, y, test_size = 1/3, random_state=0)\n",
    "\n",
    "# Fit the model\n",
    "regr = LinearRegression()\n",
    "regr.fit(x_train, y_train)\n",
    "\n",
    "# Print the intercept and coefficients\n",
    "print('Intercept: \\n', regr.intercept_)\n",
    "print(\"-\" * 20)\n",
    "print('Coefficients: \\n', regr.coef_)"
   ]
  },
  {
   "cell_type": "markdown",
   "metadata": {},
   "source": [
    "#### The standard deviation of the residual"
   ]
  },
  {
   "cell_type": "code",
   "execution_count": 29,
   "metadata": {},
   "outputs": [
    {
     "data": {
      "text/plain": [
       "8.789565250001372"
      ]
     },
     "execution_count": 29,
     "metadata": {},
     "output_type": "execute_result"
    }
   ],
   "source": [
    "# Get the predicted values and the RMSE\n",
    "y_pred = regr.predict(x_test)\n",
    "\n",
    "RMSE = (np.sqrt(mean_squared_error(y_test, y_pred)))\n",
    "RMSE"
   ]
  },
  {
   "cell_type": "markdown",
   "metadata": {},
   "source": [
    "# Vornado Realty Trust"
   ]
  },
  {
   "cell_type": "code",
   "execution_count": 30,
   "metadata": {},
   "outputs": [
    {
     "name": "stdout",
     "output_type": "stream",
     "text": [
      "Intercept: \n",
      " [39.34567489]\n",
      "--------------------\n",
      "Coefficients: \n",
      " [[0.01060687]]\n"
     ]
    }
   ],
   "source": [
    "x = merged[['Adj Close']]\n",
    "y = merged[[\"Vornado Realty Trust\"]]\n",
    "\n",
    "# Split the data into training and test sets\n",
    "x_train, x_test, y_train, y_test = train_test_split(x, y, test_size = 1/3, random_state=0)\n",
    "\n",
    "# Fit the model\n",
    "regr = LinearRegression()\n",
    "regr.fit(x_train, y_train)\n",
    "\n",
    "# Print the intercept and coefficients\n",
    "print('Intercept: \\n', regr.intercept_)\n",
    "print(\"-\" * 20)\n",
    "print('Coefficients: \\n', regr.coef_)"
   ]
  },
  {
   "cell_type": "markdown",
   "metadata": {},
   "source": [
    "#### The standard deviation of the residual"
   ]
  },
  {
   "cell_type": "code",
   "execution_count": 31,
   "metadata": {},
   "outputs": [
    {
     "data": {
      "text/plain": [
       "16.277114752273516"
      ]
     },
     "execution_count": 31,
     "metadata": {},
     "output_type": "execute_result"
    }
   ],
   "source": [
    "# Get the predicted values and the RMSE\n",
    "y_pred = regr.predict(x_test)\n",
    "\n",
    "RMSE = (np.sqrt(mean_squared_error(y_test, y_pred)))\n",
    "RMSE"
   ]
  },
  {
   "cell_type": "markdown",
   "metadata": {},
   "source": [
    "# Exxon Mobil Corp"
   ]
  },
  {
   "cell_type": "code",
   "execution_count": 32,
   "metadata": {},
   "outputs": [
    {
     "name": "stdout",
     "output_type": "stream",
     "text": [
      "Intercept: \n",
      " [55.15157879]\n",
      "--------------------\n",
      "Coefficients: \n",
      " [[0.00731754]]\n"
     ]
    }
   ],
   "source": [
    "x = merged[['Adj Close']]\n",
    "y = merged[[\"Exxon Mobil Corp\"]]\n",
    "\n",
    "# Split the data into training and test sets\n",
    "x_train, x_test, y_train, y_test = train_test_split(x, y, test_size = 1/3, random_state=0)\n",
    "\n",
    "# Fit the model\n",
    "regr = LinearRegression()\n",
    "regr.fit(x_train, y_train)\n",
    "\n",
    "# Print the intercept and coefficients\n",
    "print('Intercept: \\n', regr.intercept_)\n",
    "print(\"-\" * 20)\n",
    "print('Coefficients: \\n', regr.coef_)"
   ]
  },
  {
   "cell_type": "markdown",
   "metadata": {},
   "source": [
    "#### The standard deviation of the residual"
   ]
  },
  {
   "cell_type": "code",
   "execution_count": 33,
   "metadata": {},
   "outputs": [
    {
     "data": {
      "text/plain": [
       "17.55371601679249"
      ]
     },
     "execution_count": 33,
     "metadata": {},
     "output_type": "execute_result"
    }
   ],
   "source": [
    "# Get the predicted values and the RMSE\n",
    "y_pred = regr.predict(x_test)\n",
    "\n",
    "RMSE = (np.sqrt(mean_squared_error(y_test, y_pred)))\n",
    "RMSE"
   ]
  },
  {
   "cell_type": "markdown",
   "metadata": {},
   "source": [
    "# Wells Fargo & Company"
   ]
  },
  {
   "cell_type": "code",
   "execution_count": 34,
   "metadata": {},
   "outputs": [
    {
     "name": "stdout",
     "output_type": "stream",
     "text": [
      "Intercept: \n",
      " [18.78417661]\n",
      "--------------------\n",
      "Coefficients: \n",
      " [[0.01028689]]\n"
     ]
    }
   ],
   "source": [
    "x = merged[['Adj Close']]\n",
    "y = merged[[\"Wells Fargo & Company\"]]\n",
    "\n",
    "# Split the data into training and test sets\n",
    "x_train, x_test, y_train, y_test = train_test_split(x, y, test_size = 1/3, random_state=0)\n",
    "\n",
    "# Fit the model\n",
    "regr = LinearRegression()\n",
    "regr.fit(x_train, y_train)\n",
    "\n",
    "# Print the intercept and coefficients\n",
    "print('Intercept: \\n', regr.intercept_)\n",
    "print(\"-\" * 20)\n",
    "print('Coefficients: \\n', regr.coef_)"
   ]
  },
  {
   "cell_type": "markdown",
   "metadata": {},
   "source": [
    "#### The standard deviation of the residual"
   ]
  },
  {
   "cell_type": "code",
   "execution_count": 35,
   "metadata": {},
   "outputs": [
    {
     "data": {
      "text/plain": [
       "7.951592116075492"
      ]
     },
     "execution_count": 35,
     "metadata": {},
     "output_type": "execute_result"
    }
   ],
   "source": [
    "# Get the predicted values and the RMSE\n",
    "y_pred = regr.predict(x_test)\n",
    "\n",
    "RMSE = (np.sqrt(mean_squared_error(y_test, y_pred)))\n",
    "RMSE"
   ]
  },
  {
   "cell_type": "markdown",
   "metadata": {},
   "source": [
    "#### Yum! Brands"
   ]
  },
  {
   "cell_type": "code",
   "execution_count": 36,
   "metadata": {},
   "outputs": [
    {
     "name": "stdout",
     "output_type": "stream",
     "text": [
      "Intercept: \n",
      " [-27.10682614]\n",
      "--------------------\n",
      "Coefficients: \n",
      " [[0.04028272]]\n"
     ]
    }
   ],
   "source": [
    "x = merged[['Adj Close']]\n",
    "y = merged[[\"Yum! Brands\"]]\n",
    "\n",
    "# Split the data into training and test sets\n",
    "x_train, x_test, y_train, y_test = train_test_split(x, y, test_size = 1/3, random_state=0)\n",
    "\n",
    "# Fit the model\n",
    "regr = LinearRegression()\n",
    "regr.fit(x_train, y_train)\n",
    "\n",
    "# Print the intercept and coefficients\n",
    "print('Intercept: \\n', regr.intercept_)\n",
    "print(\"-\" * 20)\n",
    "print('Coefficients: \\n', regr.coef_)"
   ]
  },
  {
   "cell_type": "markdown",
   "metadata": {},
   "source": [
    "#### The standard deviation of the residual"
   ]
  },
  {
   "cell_type": "code",
   "execution_count": 37,
   "metadata": {},
   "outputs": [
    {
     "data": {
      "text/plain": [
       "12.514481876335276"
      ]
     },
     "execution_count": 37,
     "metadata": {},
     "output_type": "execute_result"
    }
   ],
   "source": [
    "# Get the predicted values and the RMSE\n",
    "y_pred = regr.predict(x_test)\n",
    "\n",
    "RMSE = (np.sqrt(mean_squared_error(y_test, y_pred)))\n",
    "RMSE"
   ]
  }
 ],
 "metadata": {
  "kernelspec": {
   "display_name": "Python 3",
   "language": "python",
   "name": "python3"
  },
  "language_info": {
   "codemirror_mode": {
    "name": "ipython",
    "version": 3
   },
   "file_extension": ".py",
   "mimetype": "text/x-python",
   "name": "python",
   "nbconvert_exporter": "python",
   "pygments_lexer": "ipython3",
   "version": "3.8.3"
  }
 },
 "nbformat": 4,
 "nbformat_minor": 4
}
